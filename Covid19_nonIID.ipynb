{
  "nbformat": 4,
  "nbformat_minor": 0,
  "metadata": {
    "colab": {
      "name": "Covid19_nonIID.ipynb",
      "provenance": [],
      "authorship_tag": "ABX9TyP93X7aL1IXkEafkbAlOUcI",
      "include_colab_link": true
    },
    "kernelspec": {
      "name": "python3",
      "display_name": "Python 3"
    },
    "language_info": {
      "name": "python"
    }
  },
  "cells": [
    {
      "cell_type": "markdown",
      "metadata": {
        "id": "view-in-github",
        "colab_type": "text"
      },
      "source": [
        "<a href=\"https://colab.research.google.com/github/zar1Z/non-iid-dataset-for-personalized-federated-learning/blob/master/Covid19_nonIID.ipynb\" target=\"_parent\"><img src=\"https://colab.research.google.com/assets/colab-badge.svg\" alt=\"Open In Colab\"/></a>"
      ]
    },
    {
      "cell_type": "code",
      "execution_count": 1,
      "metadata": {
        "colab": {
          "base_uri": "https://localhost:8080/"
        },
        "id": "b0sG5wklcWzY",
        "outputId": "19a0b80e-2da8-43df-f8fa-54458faed1f2"
      },
      "outputs": [
        {
          "output_type": "stream",
          "name": "stdout",
          "text": [
            "Mounted at /content/drive\n"
          ]
        }
      ],
      "source": [
        "from google.colab import drive\n",
        "drive.mount('/content/drive')"
      ]
    },
    {
      "cell_type": "code",
      "source": [
        "import numpy as np\n",
        "from torchvision import datasets, transforms\n",
        "import numpy as np\n",
        "import matplotlib.pyplot as plt\n",
        "\n",
        "def get_dataset_cifar10_extr_noniid(num_users, n_class, nsamples, rate_unbalance):\n",
        "    train_dir = '/content/drive/MyDrive/Covid19_3.zip (Unzipped Files)/Covid19_3/train'\n",
        "    test_dir='/content/drive/MyDrive/Covid19_3.zip (Unzipped Files)/Covid19_3/Test'\n",
        "    apply_transform = transforms.Compose(\n",
        "        [transforms.ToTensor(),\n",
        "         transforms.Normalize((0.4914, 0.4822, 0.4465), (0.2023, 0.1994, 0.2010))])\n",
        "    train_dataset = datasets(train_dir, train=True, download=True,\n",
        "                                   transform=apply_transform)\n",
        "\n",
        "    test_dataset = datasets(test_dir, train=False, download=True,\n",
        "                                      transform=apply_transform)\n",
        "\n",
        "    # Chose euqal splits for every user\n",
        "    user_groups_train, user_groups_test = Covid_Extra_noniid(train_dataset, test_dataset, num_users, n_class, nsamples, rate_unbalance)\n",
        "    return train_dataset, test_dataset, user_groups_train, user_groups_test\n",
        "\n",
        "def Covid_Extra_noniid(train_dataset, test_dataset, num_users, n_class, num_samples, rate_unbalance):\n",
        "    num_shards_train, num_imgs_train = int(6272/num_samples), num_samples\n",
        "    num_classes = 10\n",
        "    num_imgs_perc_test, num_imgs_test_total = 100, 305\n",
        "    assert(n_class * num_users <= num_shards_train)\n",
        "    assert(n_class <= num_classes)\n",
        "    idx_class = [i for i in range(num_classes)]\n",
        "    idx_shard = [i for i in range(num_shards_train)]\n",
        "    dict_users_train = {i: np.array([]) for i in range(num_users)}\n",
        "    dict_users_test = {i: np.array([]) for i in range(num_users)}\n",
        "    idxs = np.arange(num_shards_train*num_imgs_train)\n",
        "    # labels = dataset.train_labels.numpy()\n",
        "    labels = np.array(train_dataset.targets)\n",
        "    idxs_test = np.arange(num_imgs_test_total)\n",
        "    labels_test = np.array(test_dataset.targets)\n",
        "    #labels_test_raw = np.array(test_dataset.targets)\n",
        "\n",
        "    # sort labels\n",
        "    idxs_labels = np.vstack((idxs, labels))\n",
        "    idxs_labels = idxs_labels[:, idxs_labels[1, :].argsort()]\n",
        "    idxs = idxs_labels[0, :]\n",
        "    labels = idxs_labels[1, :]\n",
        "\n",
        "    idxs_labels_test = np.vstack((idxs_test, labels_test))\n",
        "    idxs_labels_test = idxs_labels_test[:, idxs_labels_test[1, :].argsort()]\n",
        "    idxs_test = idxs_labels_test[0, :]\n",
        "    #print(idxs_labels_test[1, :])\n",
        "\n",
        "\n",
        "    # divide and assign\n",
        "    for i in range(num_users):\n",
        "        user_labels = np.array([])\n",
        "        rand_set = set(np.random.choice(idx_shard, n_class, replace=False))\n",
        "        idx_shard = list(set(idx_shard) - rand_set)\n",
        "        unbalance_flag = 0\n",
        "        for rand in rand_set:\n",
        "            if unbalance_flag == 0:\n",
        "                dict_users_train[i] = np.concatenate(\n",
        "                    (dict_users_train[i], idxs[rand*num_imgs_train:(rand+1)*num_imgs_train]), axis=0)\n",
        "                user_labels = np.concatenate((user_labels, labels[rand*num_imgs_train:(rand+1)*num_imgs_train]), axis=0)\n",
        "            else:\n",
        "                dict_users_train[i] = np.concatenate(\n",
        "                    (dict_users_train[i], idxs[rand*num_imgs_train:int((rand+rate_unbalance)*num_imgs_train)]), axis=0)\n",
        "                user_labels = np.concatenate((user_labels, labels[rand*num_imgs_train:int((rand+rate_unbalance)*num_imgs_train)]), axis=0)\n",
        "            unbalance_flag = 1\n",
        "        user_labels_set = set(user_labels)\n",
        "        #print(user_labels_set)\n",
        "        #print(user_labels)\n",
        "        for label in user_labels_set:\n",
        "            dict_users_test[i] = np.concatenate((dict_users_test[i], idxs_test[int(label)*num_imgs_perc_test:int(label+1)*num_imgs_perc_test]), axis=0)\n",
        "        #print(set(labels_test_raw[dict_users_test[i].astype(int)]))\n",
        "\n",
        "    return dict_users_train, dict_users_test\n",
        "\n",
        "def plot_samples(data, channel:int, title=None, plot_name=\"\", n_examples =20):\n",
        "\n",
        "    n_rows = int(n_examples / 5)\n",
        "    plt.figure(figsize=(1* n_rows, 1*n_rows))\n",
        "    if title: plt.suptitle(title)\n",
        "    X, y= data\n",
        "    for idx in range(n_examples):\n",
        "        \n",
        "        ax = plt.subplot(n_rows, 5, idx + 1)\n",
        "\n",
        "        image = 255 - X[idx, channel].view((28,28))\n",
        "        ax.imshow(image, cmap='gist_gray')\n",
        "        ax.axis(\"off\")\n",
        "\n",
        "    if plot_name!=\"\":plt.savefig(f\"plots/\"+plot_name+\".png\")\n",
        "\n",
        "    plt.tight_layout()"
      ],
      "metadata": {
        "id": "ZEyY2fEmcZZp"
      },
      "execution_count": 4,
      "outputs": []
    }
  ]
}